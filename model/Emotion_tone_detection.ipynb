{
 "cells": [
  {
   "cell_type": "markdown",
   "id": "d72b2279",
   "metadata": {},
   "source": [
    "Data Loading and Feature Extraction\n"
   ]
  },
  {
   "cell_type": "code",
   "execution_count": 1,
   "id": "7454ba30",
   "metadata": {},
   "outputs": [
    {
     "name": "stdout",
     "output_type": "stream",
     "text": [
      "Using GPU? []\n"
     ]
    }
   ],
   "source": [
    "import os\n",
    "os.environ[\"CUDA_VISIBLE_DEVICES\"] = \"-1\"  # Force CPU only\n",
    "\n",
    "import tensorflow as tf\n",
    "print(\"Using GPU?\", tf.config.list_physical_devices('GPU'))  # Should show empty list\n",
    "\n",
    "from keras import backend as K\n",
    "K.clear_session()  # Clear previous models from memory\n"
   ]
  },
  {
   "cell_type": "code",
   "execution_count": 2,
   "id": "f5daf512",
   "metadata": {},
   "outputs": [],
   "source": [
    "import os\n",
    "import numpy as np\n",
    "import pandas as pd\n",
    "import librosa\n",
    "import pickle\n",
    "from sklearn.preprocessing import LabelEncoder\n",
    "from sklearn.model_selection import train_test_split\n",
    "from keras.utils import to_categorical\n",
    "\n",
    "from keras.models import Sequential, load_model\n",
    "from keras.layers import Conv1D, MaxPooling1D, LSTM, Dropout, Dense, BatchNormalization\n",
    "from keras.optimizers import Adam\n"
   ]
  },
  {
   "cell_type": "code",
   "execution_count": 3,
   "id": "947c4669",
   "metadata": {},
   "outputs": [
    {
     "name": "stdout",
     "output_type": "stream",
     "text": [
      "Samples Loaded: 1400\n"
     ]
    }
   ],
   "source": [
    "# Constants\n",
    "DATA_PATH = r'C:\\Users\\manim\\OneDrive\\Desktop\\Mani_ma\\Projects\\Emotion and Tone Detection_Tess Dataset\\TESS'\n",
    "EMOTIONS = ['angry', 'disgust', 'fear', 'happy', 'neutral', 'ps', 'sad']\n",
    "\n",
    "def get_emotion(filename):\n",
    "    for emotion in EMOTIONS:\n",
    "        if emotion in filename.lower():\n",
    "            return emotion\n",
    "    return None\n",
    "\n",
    "def extract_features(file_path):\n",
    "    try:\n",
    "        audio, sample_rate = librosa.load(file_path, sr=None)\n",
    "        mfccs = librosa.feature.mfcc(y=audio, sr=sample_rate, n_mfcc=40)\n",
    "        mfccs_scaled = np.mean(mfccs.T, axis=0)\n",
    "        return mfccs_scaled\n",
    "    except Exception as e:\n",
    "        print(f\"Error processing {file_path}: {e}\")\n",
    "        return None\n",
    "\n",
    "# Build dataset\n",
    "features = []\n",
    "for file in os.listdir(DATA_PATH):\n",
    "    if file.endswith('.wav'):\n",
    "        emotion = get_emotion(file)\n",
    "        if emotion:\n",
    "            path = os.path.join(DATA_PATH, file)\n",
    "            mfccs = extract_features(path)\n",
    "            if mfccs is not None:\n",
    "                features.append([mfccs, emotion])\n",
    "\n",
    "df = pd.DataFrame(features, columns=['features', 'emotion'])\n",
    "print(\"Samples Loaded:\", len(df))\n"
   ]
  },
  {
   "cell_type": "markdown",
   "id": "e95fd9c1",
   "metadata": {},
   "source": [
    "Encode Labels and Split the Dataset"
   ]
  },
  {
   "cell_type": "code",
   "execution_count": 4,
   "id": "302cdbc8",
   "metadata": {},
   "outputs": [],
   "source": [
    "X = np.array(df['features'].tolist())\n",
    "y = np.array(df['emotion'])\n",
    "\n",
    "# Encode labels\n",
    "le = LabelEncoder()\n",
    "y_encoded = le.fit_transform(y)\n",
    "y_onehot = to_categorical(y_encoded)\n",
    "\n",
    "# Save the encoder\n",
    "with open(\"label_encoder.pkl\", \"wb\") as f:\n",
    "    pickle.dump(le, f)\n",
    "\n",
    "# Train-test split\n",
    "X_train, X_test, y_train, y_test = train_test_split(X, y_onehot, test_size=0.2, random_state=42)\n",
    "\n",
    "# Reshape for Conv1D input\n",
    "X_train = X_train.reshape(X_train.shape[0], 40, 1)\n",
    "X_test = X_test.reshape(X_test.shape[0], 40, 1)\n"
   ]
  },
  {
   "cell_type": "markdown",
   "id": "a6a81128",
   "metadata": {},
   "source": [
    "Model Definition & Training"
   ]
  },
  {
   "cell_type": "code",
   "execution_count": 5,
   "id": "785a9c2a",
   "metadata": {},
   "outputs": [
    {
     "name": "stdout",
     "output_type": "stream",
     "text": [
      "Model: \"sequential\"\n",
      "_________________________________________________________________\n",
      " Layer (type)                Output Shape              Param #   \n",
      "=================================================================\n",
      " conv1d (Conv1D)             (None, 36, 64)            384       \n",
      "                                                                 \n",
      " batch_normalization (BatchN  (None, 36, 64)           256       \n",
      " ormalization)                                                   \n",
      "                                                                 \n",
      " max_pooling1d (MaxPooling1D  (None, 18, 64)           0         \n",
      " )                                                               \n",
      "                                                                 \n",
      " lstm (LSTM)                 (None, 64)                33024     \n",
      "                                                                 \n",
      " dropout (Dropout)           (None, 64)                0         \n",
      "                                                                 \n",
      " dense (Dense)               (None, 64)                4160      \n",
      "                                                                 \n",
      " dropout_1 (Dropout)         (None, 64)                0         \n",
      "                                                                 \n",
      " dense_1 (Dense)             (None, 7)                 455       \n",
      "                                                                 \n",
      "=================================================================\n",
      "Total params: 38,279\n",
      "Trainable params: 38,151\n",
      "Non-trainable params: 128\n",
      "_________________________________________________________________\n"
     ]
    }
   ],
   "source": [
    "model = Sequential()\n",
    "\n",
    "model.add(Conv1D(64, kernel_size=5, activation='relu', input_shape=(40, 1)))\n",
    "model.add(BatchNormalization())\n",
    "model.add(MaxPooling1D(pool_size=2))\n",
    "model.add(LSTM(64, return_sequences=False))\n",
    "model.add(Dropout(0.3))\n",
    "model.add(Dense(64, activation='relu'))\n",
    "model.add(Dropout(0.5))\n",
    "model.add(Dense(7, activation='softmax'))  # 7 classes\n",
    "\n",
    "model.compile(optimizer=Adam(learning_rate=0.001), loss='categorical_crossentropy', metrics=['accuracy'])\n",
    "model.summary()\n"
   ]
  },
  {
   "cell_type": "code",
   "execution_count": 6,
   "id": "30f6fd58",
   "metadata": {},
   "outputs": [
    {
     "name": "stdout",
     "output_type": "stream",
     "text": [
      "Epoch 1/50\n",
      "140/140 [==============================] - 3s 8ms/step - loss: 1.8841 - accuracy: 0.2161 - val_loss: 1.7547 - val_accuracy: 0.3214\n",
      "Epoch 2/50\n",
      "140/140 [==============================] - 1s 5ms/step - loss: 1.6374 - accuracy: 0.4161 - val_loss: 1.4235 - val_accuracy: 0.6250\n",
      "Epoch 3/50\n",
      "140/140 [==============================] - 1s 5ms/step - loss: 1.3475 - accuracy: 0.5384 - val_loss: 1.0470 - val_accuracy: 0.7571\n",
      "Epoch 4/50\n",
      "140/140 [==============================] - 1s 5ms/step - loss: 1.0822 - accuracy: 0.6179 - val_loss: 0.7536 - val_accuracy: 0.8893\n",
      "Epoch 5/50\n",
      "140/140 [==============================] - 1s 5ms/step - loss: 0.8509 - accuracy: 0.7223 - val_loss: 0.5259 - val_accuracy: 0.9286\n",
      "Epoch 6/50\n",
      "140/140 [==============================] - 1s 5ms/step - loss: 0.6639 - accuracy: 0.7777 - val_loss: 0.3731 - val_accuracy: 0.9250\n",
      "Epoch 7/50\n",
      "140/140 [==============================] - 1s 5ms/step - loss: 0.5651 - accuracy: 0.8125 - val_loss: 0.2844 - val_accuracy: 0.9393\n",
      "Epoch 8/50\n",
      "140/140 [==============================] - 1s 5ms/step - loss: 0.4302 - accuracy: 0.8670 - val_loss: 0.2285 - val_accuracy: 0.9607\n",
      "Epoch 9/50\n",
      "140/140 [==============================] - 1s 5ms/step - loss: 0.3778 - accuracy: 0.8938 - val_loss: 0.1876 - val_accuracy: 0.9643\n",
      "Epoch 10/50\n",
      "140/140 [==============================] - 1s 5ms/step - loss: 0.3226 - accuracy: 0.9027 - val_loss: 0.1522 - val_accuracy: 0.9679\n",
      "Epoch 11/50\n",
      "140/140 [==============================] - 1s 5ms/step - loss: 0.2940 - accuracy: 0.9152 - val_loss: 0.1247 - val_accuracy: 0.9750\n",
      "Epoch 12/50\n",
      "140/140 [==============================] - 1s 5ms/step - loss: 0.2431 - accuracy: 0.9187 - val_loss: 0.1051 - val_accuracy: 0.9750\n",
      "Epoch 13/50\n",
      "140/140 [==============================] - 1s 5ms/step - loss: 0.2185 - accuracy: 0.9393 - val_loss: 0.0949 - val_accuracy: 0.9679\n",
      "Epoch 14/50\n",
      "140/140 [==============================] - 1s 5ms/step - loss: 0.1989 - accuracy: 0.9509 - val_loss: 0.0739 - val_accuracy: 0.9821\n",
      "Epoch 15/50\n",
      "140/140 [==============================] - 1s 4ms/step - loss: 0.1671 - accuracy: 0.9580 - val_loss: 0.0678 - val_accuracy: 0.9786\n",
      "Epoch 16/50\n",
      "140/140 [==============================] - 1s 5ms/step - loss: 0.1469 - accuracy: 0.9589 - val_loss: 0.0615 - val_accuracy: 0.9786\n",
      "Epoch 17/50\n",
      "140/140 [==============================] - 1s 5ms/step - loss: 0.1482 - accuracy: 0.9598 - val_loss: 0.0477 - val_accuracy: 0.9857\n",
      "Epoch 18/50\n",
      "140/140 [==============================] - 1s 4ms/step - loss: 0.1304 - accuracy: 0.9723 - val_loss: 0.0592 - val_accuracy: 0.9786\n",
      "Epoch 19/50\n",
      "140/140 [==============================] - 1s 5ms/step - loss: 0.1265 - accuracy: 0.9661 - val_loss: 0.0594 - val_accuracy: 0.9750\n",
      "Epoch 20/50\n",
      "140/140 [==============================] - 1s 5ms/step - loss: 0.1269 - accuracy: 0.9705 - val_loss: 0.0507 - val_accuracy: 0.9821\n",
      "Epoch 21/50\n",
      "140/140 [==============================] - 1s 4ms/step - loss: 0.1084 - accuracy: 0.9768 - val_loss: 0.0483 - val_accuracy: 0.9857\n",
      "Epoch 22/50\n",
      "140/140 [==============================] - 1s 4ms/step - loss: 0.0969 - accuracy: 0.9741 - val_loss: 0.0466 - val_accuracy: 0.9786\n",
      "Epoch 23/50\n",
      "140/140 [==============================] - 1s 4ms/step - loss: 0.0833 - accuracy: 0.9821 - val_loss: 0.0385 - val_accuracy: 0.9893\n",
      "Epoch 24/50\n",
      "140/140 [==============================] - 1s 4ms/step - loss: 0.0733 - accuracy: 0.9795 - val_loss: 0.0612 - val_accuracy: 0.9750\n",
      "Epoch 25/50\n",
      "140/140 [==============================] - 1s 4ms/step - loss: 0.0810 - accuracy: 0.9830 - val_loss: 0.0602 - val_accuracy: 0.9821\n",
      "Epoch 26/50\n",
      "140/140 [==============================] - 1s 4ms/step - loss: 0.0781 - accuracy: 0.9759 - val_loss: 0.0600 - val_accuracy: 0.9750\n",
      "Epoch 27/50\n",
      "140/140 [==============================] - 1s 4ms/step - loss: 0.0710 - accuracy: 0.9848 - val_loss: 0.0458 - val_accuracy: 0.9821\n",
      "Epoch 28/50\n",
      "140/140 [==============================] - 1s 4ms/step - loss: 0.0836 - accuracy: 0.9812 - val_loss: 0.0515 - val_accuracy: 0.9857\n",
      "Epoch 29/50\n",
      "140/140 [==============================] - 1s 4ms/step - loss: 0.0624 - accuracy: 0.9893 - val_loss: 0.0530 - val_accuracy: 0.9821\n",
      "Epoch 30/50\n",
      "140/140 [==============================] - 1s 4ms/step - loss: 0.0696 - accuracy: 0.9786 - val_loss: 0.0359 - val_accuracy: 0.9893\n",
      "Epoch 31/50\n",
      "140/140 [==============================] - 1s 4ms/step - loss: 0.0532 - accuracy: 0.9866 - val_loss: 0.0389 - val_accuracy: 0.9821\n",
      "Epoch 32/50\n",
      "140/140 [==============================] - 1s 4ms/step - loss: 0.0503 - accuracy: 0.9893 - val_loss: 0.0699 - val_accuracy: 0.9821\n",
      "Epoch 33/50\n",
      "140/140 [==============================] - 1s 4ms/step - loss: 0.0619 - accuracy: 0.9848 - val_loss: 0.0470 - val_accuracy: 0.9857\n",
      "Epoch 34/50\n",
      "140/140 [==============================] - 1s 4ms/step - loss: 0.0427 - accuracy: 0.9937 - val_loss: 0.0512 - val_accuracy: 0.9821\n",
      "Epoch 35/50\n",
      "140/140 [==============================] - 1s 4ms/step - loss: 0.0509 - accuracy: 0.9911 - val_loss: 0.0422 - val_accuracy: 0.9821\n",
      "Epoch 36/50\n",
      "140/140 [==============================] - 1s 4ms/step - loss: 0.0457 - accuracy: 0.9884 - val_loss: 0.0548 - val_accuracy: 0.9821\n",
      "Epoch 37/50\n",
      "140/140 [==============================] - 1s 4ms/step - loss: 0.0417 - accuracy: 0.9902 - val_loss: 0.0601 - val_accuracy: 0.9821\n",
      "Epoch 38/50\n",
      "140/140 [==============================] - 1s 4ms/step - loss: 0.0502 - accuracy: 0.9866 - val_loss: 0.0523 - val_accuracy: 0.9857\n",
      "Epoch 39/50\n",
      "140/140 [==============================] - 1s 4ms/step - loss: 0.0470 - accuracy: 0.9893 - val_loss: 0.0247 - val_accuracy: 0.9929\n",
      "Epoch 40/50\n",
      "140/140 [==============================] - 1s 4ms/step - loss: 0.0436 - accuracy: 0.9893 - val_loss: 0.0512 - val_accuracy: 0.9857\n",
      "Epoch 41/50\n",
      "140/140 [==============================] - 1s 4ms/step - loss: 0.0295 - accuracy: 0.9929 - val_loss: 0.0385 - val_accuracy: 0.9893\n",
      "Epoch 42/50\n",
      "140/140 [==============================] - 1s 4ms/step - loss: 0.0348 - accuracy: 0.9920 - val_loss: 0.0663 - val_accuracy: 0.9786\n",
      "Epoch 43/50\n",
      "140/140 [==============================] - 1s 4ms/step - loss: 0.0347 - accuracy: 0.9929 - val_loss: 0.0343 - val_accuracy: 0.9893\n",
      "Epoch 44/50\n",
      "140/140 [==============================] - 1s 4ms/step - loss: 0.0365 - accuracy: 0.9911 - val_loss: 0.0285 - val_accuracy: 0.9929\n",
      "Epoch 45/50\n",
      "140/140 [==============================] - 1s 4ms/step - loss: 0.0272 - accuracy: 0.9937 - val_loss: 0.0637 - val_accuracy: 0.9821\n",
      "Epoch 46/50\n",
      "140/140 [==============================] - 1s 4ms/step - loss: 0.0226 - accuracy: 0.9946 - val_loss: 0.0260 - val_accuracy: 0.9929\n",
      "Epoch 47/50\n",
      "140/140 [==============================] - 1s 4ms/step - loss: 0.0265 - accuracy: 0.9955 - val_loss: 0.0237 - val_accuracy: 0.9929\n",
      "Epoch 48/50\n",
      "140/140 [==============================] - 1s 4ms/step - loss: 0.0345 - accuracy: 0.9920 - val_loss: 0.0541 - val_accuracy: 0.9857\n",
      "Epoch 49/50\n",
      "140/140 [==============================] - 1s 4ms/step - loss: 0.0158 - accuracy: 0.9991 - val_loss: 0.0206 - val_accuracy: 0.9964\n",
      "Epoch 50/50\n",
      "140/140 [==============================] - 1s 4ms/step - loss: 0.0176 - accuracy: 0.9973 - val_loss: 0.0201 - val_accuracy: 0.9929\n"
     ]
    }
   ],
   "source": [
    "from keras.callbacks import EarlyStopping\n",
    "from keras.optimizers import Adam\n",
    "\n",
    "# Lower learning rate\n",
    "optimizer = Adam(learning_rate=0.0001)\n",
    "\n",
    "# Compile again with the new optimizer\n",
    "model.compile(optimizer=optimizer, loss='categorical_crossentropy', metrics=['accuracy'])\n",
    "\n",
    "# Updated early stopping\n",
    "early_stop = EarlyStopping(\n",
    "    monitor='val_loss', \n",
    "    patience=10,  # longer patience\n",
    "    restore_best_weights=True\n",
    ")\n",
    "\n",
    "# Train\n",
    "history = model.fit(\n",
    "    X_train, y_train,\n",
    "    validation_data=(X_test, y_test),\n",
    "    epochs=50,\n",
    "    batch_size=8,  # try a moderate batch size on CPU\n",
    "    callbacks=[early_stop]\n",
    ")\n"
   ]
  },
  {
   "cell_type": "code",
   "execution_count": 7,
   "id": "f90d5728",
   "metadata": {},
   "outputs": [
    {
     "data": {
      "image/png": "[encoded data removed]",
      "text/plain": [
       "<Figure size 640x480 with 1 Axes>"
      ]
     },
     "metadata": {},
     "output_type": "display_data"
    },
    {
     "data": {
      "image/png": "[encoded data removed]",
      "text/plain": [
       "<Figure size 640x480 with 1 Axes>"
      ]
     },
     "metadata": {},
     "output_type": "display_data"
    }
   ],
   "source": [
    "import matplotlib.pyplot as plt\n",
    "\n",
    "# Accuracy\n",
    "plt.plot(history.history['accuracy'], label='Train Accuracy')\n",
    "plt.plot(history.history['val_accuracy'], label='Val Accuracy')\n",
    "plt.title('Accuracy Curve')\n",
    "plt.xlabel('Epoch')\n",
    "plt.ylabel('Accuracy')\n",
    "plt.legend()\n",
    "plt.show()\n",
    "\n",
    "# Loss\n",
    "plt.plot(history.history['loss'], label='Train Loss')\n",
    "plt.plot(history.history['val_loss'], label='Val Loss')\n",
    "plt.title('Loss Curve')\n",
    "plt.xlabel('Epoch')\n",
    "plt.ylabel('Loss')\n",
    "plt.legend()\n",
    "plt.show()"
   ]
  },
  {
   "cell_type": "code",
   "execution_count": 10,
   "id": "0eabc3f0",
   "metadata": {},
   "outputs": [],
   "source": [
    "model.save(\"tess_emotion_model.h5\")\n",
    "# ---------------- TRAINING ENCODER SAVE CODE ----------------\n",
    "from sklearn.preprocessing import LabelEncoder\n",
    "import pickle\n",
    "\n",
    "# Suppose y is your target list of labels like ['happy', 'sad', 'angry', ...]\n",
    "le = LabelEncoder()\n",
    "y_encoded = le.fit_transform(y)\n",
    "\n",
    "# Save LabelEncoder for future use\n",
    "with open(\"label_encoder.pkl\", \"wb\") as f:\n",
    "    pickle.dump(le, f)\n"
   ]
  },
  {
   "cell_type": "code",
   "execution_count": null,
   "id": "1ee91a16",
   "metadata": {},
   "outputs": [
    {
     "name": "stdout",
     "output_type": "stream",
     "text": [
      "35/35 [==============================] - 0s 2ms/step - loss: 0.0201 - accuracy: 0.9929\n",
      "Test Accuracy: 0.9928571581840515\n"
     ]
    }
   ],
   "source": [
    "test_loss, test_acc = model.evaluate(X_test, y_test, batch_size=8)  # use small batch size\n",
    "print(\"Test Accuracy:\", test_acc)"
   ]
  },
  {
   "cell_type": "code",
   "execution_count": null,
   "id": "02786238",
   "metadata": {},
   "outputs": [
    {
     "name": "stdout",
     "output_type": "stream",
     "text": [
      "🎙️ Speak Now...\n",
      "✅ Recording Done.\n",
      "1/1 [==============================] - 0s 298ms/step\n",
      "Predicted Emotion: disgust\n"
     ]
    }
   ],
   "source": [
    "import librosa\n",
    "import numpy as np\n",
    "import sounddevice as sd\n",
    "import tensorflow as tf\n",
    "from keras.models import load_model\n",
    "import pickle\n",
    "import scipy.io.wavfile as wavfile\n",
    "\n",
    "# Load your model and encoder\n",
    "MODEL_PATH = \"tess_emotion_model.h5\"\n",
    "ENCODER_PATH = \"label_encoder.pkl\"\n",
    "\n",
    "model = load_model(MODEL_PATH)\n",
    "\n",
    "# Load LabelEncoder\n",
    "with open(ENCODER_PATH, \"rb\") as f:\n",
    "    le = pickle.load(f)\n",
    "\n",
    "def record_audio(duration=10, fs=44100, filename=\"live_audio.wav\"):\n",
    "    print(\"🎙️ Speak Now...\")\n",
    "    recording = sd.rec(int(duration * fs), samplerate=fs, channels=1)\n",
    "    sd.wait()\n",
    "    wavfile.write(filename, fs, recording)\n",
    "    print(\"✅ Recording Done.\")\n",
    "    return filename\n",
    "\n",
    "def extract_features(file_path):\n",
    "    audio, sr = librosa.load(file_path, sr=16000)\n",
    "    mfcc = librosa.feature.mfcc(y=audio, sr=sr, n_mfcc=40)\n",
    "\n",
    "    # Fix length: Pad or truncate to shape (40, 174)\n",
    "    if mfcc.shape[1] < 174:\n",
    "        pad_width = 174 - mfcc.shape[1]\n",
    "        mfcc = np.pad(mfcc, ((0, 0), (0, pad_width)), mode='constant')\n",
    "    else:\n",
    "        mfcc = mfcc[:, :174]\n",
    "\n",
    "    return mfcc\n",
    "\n",
    "\n",
    "def predict_emotion(audio_path):\n",
    "    y, sr = librosa.load(audio_path, sr=16000)\n",
    "    \n",
    "    # Extract MFCC features\n",
    "    mfcc = librosa.feature.mfcc(y=y, sr=sr, n_mfcc=40)\n",
    "    \n",
    "    # Take the mean over time-axis (axis=1) to make it (40,)\n",
    "    mfcc_mean = np.mean(mfcc, axis=1)\n",
    "    \n",
    "    # Now shape it to (40, 1)\n",
    "    features = mfcc_mean.reshape(40, 1)\n",
    "    \n",
    "    # Add batch dimension (1, 40, 1)\n",
    "    features = np.expand_dims(features, axis=1)\n",
    "    \n",
    "    # Predict\n",
    "    prediction = model.predict(features)\n",
    "    predicted_class = np.argmax(prediction)\n",
    "    predicted_emotion = le.inverse_transform([predicted_class])[0]\n",
    "    \n",
    "    print(\"Predicted Emotion:\", predicted_emotion)\n",
    "\n",
    "\n",
    "# Run the system\n",
    "if __name__ == \"__main__\":\n",
    "    audio_path = record_audio(duration=5)  # record for 10 seconds\n",
    "    predict_emotion(audio_path)\n"
   ]
  }
 ],
 "metadata": {
  "kernelspec": {
   "display_name": "tess_emotion_env",
   "language": "python",
   "name": "python3"
  },
  "language_info": {
   "codemirror_mode": {
    "name": "ipython",
    "version": 3
   },
   "file_extension": ".py",
   "mimetype": "text/x-python",
   "name": "python",
   "nbconvert_exporter": "python",
   "pygments_lexer": "ipython3",
   "version": "3.10.18"
  }
 },
 "nbformat": 4,
 "nbformat_minor": 5
}
