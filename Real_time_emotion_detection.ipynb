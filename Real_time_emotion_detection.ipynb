{
 "cells": [
  {
   "cell_type": "code",
   "execution_count": null,
   "id": "56aa24dc",
   "metadata": {},
   "outputs": [
    {
     "name": "stdout",
     "output_type": "stream",
     "text": [
      "🎙️ Speak Now...\n",
      "✅ Recording Done.\n",
      "1/1 [==============================] - 0s 298ms/step\n",
      "Predicted Emotion: disgust\n"
     ]
    }
   ],
   "source": [
    "import librosa\n",
    "import numpy as np\n",
    "import sounddevice as sd\n",
    "import tensorflow as tf\n",
    "from keras.models import load_model\n",
    "import pickle\n",
    "import scipy.io.wavfile as wavfile\n",
    "\n",
    "# Load your model and encoder\n",
    "MODEL_PATH = \"tess_emotion_model.h5\"\n",
    "ENCODER_PATH = \"label_encoder.pkl\"\n",
    "\n",
    "model = load_model(MODEL_PATH)\n",
    "\n",
    "# Load LabelEncoder\n",
    "with open(ENCODER_PATH, \"rb\") as f:\n",
    "    le = pickle.load(f)\n",
    "\n",
    "def record_audio(duration=10, fs=44100, filename=\"live_audio.wav\"):\n",
    "    print(\"🎙️ Speak Now...\")\n",
    "    recording = sd.rec(int(duration * fs), samplerate=fs, channels=1)\n",
    "    sd.wait()\n",
    "    wavfile.write(filename, fs, recording)\n",
    "    print(\"✅ Recording Done.\")\n",
    "    return filename\n",
    "\n",
    "def extract_features(file_path):\n",
    "    audio, sr = librosa.load(file_path, sr=16000)\n",
    "    mfcc = librosa.feature.mfcc(y=audio, sr=sr, n_mfcc=40)\n",
    "\n",
    "    # Fix length: Pad or truncate to shape (40, 174)\n",
    "    if mfcc.shape[1] < 174:\n",
    "        pad_width = 174 - mfcc.shape[1]\n",
    "        mfcc = np.pad(mfcc, ((0, 0), (0, pad_width)), mode='constant')\n",
    "    else:\n",
    "        mfcc = mfcc[:, :174]\n",
    "\n",
    "    return mfcc\n",
    "\n",
    "\n",
    "def predict_emotion(audio_path):\n",
    "    y, sr = librosa.load(audio_path, sr=16000)\n",
    "    \n",
    "    # Extract MFCC features\n",
    "    mfcc = librosa.feature.mfcc(y=y, sr=sr, n_mfcc=40)\n",
    "    \n",
    "    # Take the mean over time-axis (axis=1) to make it (40,)\n",
    "    mfcc_mean = np.mean(mfcc, axis=1)\n",
    "    \n",
    "    # Now shape it to (40, 1)\n",
    "    features = mfcc_mean.reshape(40, 1)\n",
    "    \n",
    "    # Add batch dimension (1, 40, 1)\n",
    "    features = np.expand_dims(features, axis=1)\n",
    "    \n",
    "    # Predict\n",
    "    prediction = model.predict(features)\n",
    "    predicted_class = np.argmax(prediction)\n",
    "    predicted_emotion = le.inverse_transform([predicted_class])[0]\n",
    "    \n",
    "    print(\"Predicted Emotion:\", predicted_emotion)\n",
    "\n",
    "\n",
    "# Run the system\n",
    "if __name__ == \"__main__\":\n",
    "    audio_path = record_audio(duration=5)  # record for 10 seconds\n",
    "    predict_emotion(audio_path)\n"
   ]
  }
 ],
 "metadata": {
  "kernelspec": {
   "display_name": "tess_emotion_env",
   "language": "python",
   "name": "python3"
  },
  "language_info": {
   "name": "python",
   "version": "3.10.18"
  }
 },
 "nbformat": 4,
 "nbformat_minor": 5
}
